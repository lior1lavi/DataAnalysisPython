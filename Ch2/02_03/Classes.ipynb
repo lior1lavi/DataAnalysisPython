{
 "cells": [
  {
   "cell_type": "code",
   "execution_count": 35,
   "metadata": {},
   "outputs": [],
   "source": [
    "'Define a class:'\n",
    "' Define methods in the Class - \"method1, method2\"'   \n",
    "' In method2 We define var for some string'        \n",
    "\n",
    "class MyClass():\n",
    "    def method1():\n",
    "        print(\"MyClass method1\")\n",
    "        \n",
    "    def method2(somestring):\n",
    "        print(\"MyClass method2\" + somestring)\n",
    "        "
   ]
  },
  {
   "cell_type": "code",
   "execution_count": 36,
   "metadata": {},
   "outputs": [],
   "source": [
    "'In the main function we will use the class'\n",
    "' Using the \"c = MyClass\" we can referring the class attributes to the var c'\n",
    "' We can now call methods or objects in the class'\n",
    "\n",
    "def main():\n",
    "    c = MyClass\n",
    "    c.method1()\n",
    "    c.method2(\"This is method2\")\n"
   ]
  },
  {
   "cell_type": "code",
   "execution_count": 37,
   "metadata": {},
   "outputs": [
    {
     "name": "stdout",
     "output_type": "stream",
     "text": [
      "MyClass method1\n",
      "MyClass method2This is method2\n"
     ]
    }
   ],
   "source": [
    "main()"
   ]
  },
  {
   "cell_type": "code",
   "execution_count": 38,
   "metadata": {},
   "outputs": [],
   "source": [
    "'Inherited Class attributes from another class'\n",
    "' This class use \"MyClass\" as a variable'\n",
    "' We can call the Inherited object on the super class using the \"MyClass.method1\" command'\n",
    "\n",
    "class AnotherClass(MyClass):\n",
    "    def method1():\n",
    "        print(\"AnotherClass method1\")\n",
    "        MyClass.method1()\n",
    "    def method2(somestring):\n",
    "        print(\"AnotherClass method2\")"
   ]
  },
  {
   "cell_type": "code",
   "execution_count": 39,
   "metadata": {},
   "outputs": [],
   "source": [
    "'We will call the Inherited object on the super class'\n",
    "\n",
    "def main():\n",
    "    c = MyClass\n",
    "    c.method1()\n",
    "    c.method2(\"This is method2\")\n",
    "    \n",
    "    c2 = AnotherClass\n",
    "    c2.method1()\n",
    "   "
   ]
  },
  {
   "cell_type": "code",
   "execution_count": 40,
   "metadata": {},
   "outputs": [
    {
     "name": "stdout",
     "output_type": "stream",
     "text": [
      "MyClass method1\n",
      "MyClass method2This is method2\n",
      "AnotherClass method1\n",
      "MyClass method1\n"
     ]
    }
   ],
   "source": [
    "main()"
   ]
  },
  {
   "cell_type": "code",
   "execution_count": null,
   "metadata": {},
   "outputs": [],
   "source": []
  }
 ],
 "metadata": {
  "kernelspec": {
   "display_name": "Python 3",
   "language": "python",
   "name": "python3"
  },
  "language_info": {
   "codemirror_mode": {
    "name": "ipython",
    "version": 3
   },
   "file_extension": ".py",
   "mimetype": "text/x-python",
   "name": "python",
   "nbconvert_exporter": "python",
   "pygments_lexer": "ipython3",
   "version": "3.6.5"
  }
 },
 "nbformat": 4,
 "nbformat_minor": 2
}
